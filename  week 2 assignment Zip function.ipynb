{
 "cells": [
  {
   "cell_type": "markdown",
   "id": "4b69e68a",
   "metadata": {},
   "source": [
    "# The Zip() function returns a zip object, which is an iterator of tuples, where the first item in each passed iterator is paired together, and then the second item in each passed iterator are paired together.\n",
    "\n",
    "If the iterators have different lengths, the iterator with the least items decides the length of the new iterator."
   ]
  },
  {
   "cell_type": "code",
   "execution_count": 3,
   "id": "fd4ca888",
   "metadata": {},
   "outputs": [
    {
     "name": "stdout",
     "output_type": "stream",
     "text": [
      "(('apple', 'strawberry'), ('cherry', 'kiwi'), ('banana', 'dragonfruit'))\n"
     ]
    }
   ],
   "source": [
    "\n",
    "a = (\"apple\", \"cherry\",\"banana\")\n",
    "b = (\"strawberry\", \"kiwi\", \"dragonfruit\")\n",
    "x = zip(a,b)\n",
    "print(tuple(x))"
   ]
  },
  {
   "cell_type": "markdown",
   "id": "820ff78e",
   "metadata": {},
   "source": []
  }
 ],
 "metadata": {
  "kernelspec": {
   "display_name": "Python 3 (ipykernel)",
   "language": "python",
   "name": "python3"
  },
  "language_info": {
   "codemirror_mode": {
    "name": "ipython",
    "version": 3
   },
   "file_extension": ".py",
   "mimetype": "text/x-python",
   "name": "python",
   "nbconvert_exporter": "python",
   "pygments_lexer": "ipython3",
   "version": "3.9.13"
  }
 },
 "nbformat": 4,
 "nbformat_minor": 5
}
